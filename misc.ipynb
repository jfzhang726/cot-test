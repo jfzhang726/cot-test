{
 "cells": [
  {
   "cell_type": "code",
   "execution_count": 1,
   "metadata": {},
   "outputs": [
    {
     "name": "stderr",
     "output_type": "stream",
     "text": [
      "d:\\Documents\\work\\vscode_workspace\\cot-test\\.venv_cot\\lib\\site-packages\\tqdm\\auto.py:21: TqdmWarning: IProgress not found. Please update jupyter and ipywidgets. See https://ipywidgets.readthedocs.io/en/stable/user_install.html\n",
      "  from .autonotebook import tqdm as notebook_tqdm\n"
     ]
    }
   ],
   "source": [
    "import json\n",
    "\n",
    "import numpy as np\n",
    "\n",
    "from tqdm import tqdm\n",
    "from datasets import load_dataset\n",
    "from tenacity import retry, stop_after_attempt, wait_chain, wait_fixed"
   ]
  },
  {
   "cell_type": "code",
   "execution_count": 3,
   "metadata": {},
   "outputs": [],
   "source": [
    "gsm8k = load_dataset('gsm8k', 'socratic')"
   ]
  },
  {
   "cell_type": "code",
   "execution_count": 4,
   "metadata": {},
   "outputs": [
    {
     "data": {
      "text/plain": [
       "DatasetDict({\n",
       "    train: Dataset({\n",
       "        features: ['question', 'answer'],\n",
       "        num_rows: 7473\n",
       "    })\n",
       "    test: Dataset({\n",
       "        features: ['question', 'answer'],\n",
       "        num_rows: 1319\n",
       "    })\n",
       "})"
      ]
     },
     "execution_count": 4,
     "metadata": {},
     "output_type": "execute_result"
    }
   ],
   "source": [
    "gsm8k"
   ]
  },
  {
   "cell_type": "code",
   "execution_count": 7,
   "metadata": {},
   "outputs": [
    {
     "data": {
      "text/plain": [
       "{'question': 'Natalia sold clips to 48 of her friends in April, and then she sold half as many clips in May. How many clips did Natalia sell altogether in April and May?',\n",
       " 'answer': 'How many clips did Natalia sell in May? ** Natalia sold 48/2 = <<48/2=24>>24 clips in May.\\nHow many clips did Natalia sell altogether in April and May? ** Natalia sold 48+24 = <<48+24=72>>72 clips altogether in April and May.\\n#### 72'}"
      ]
     },
     "execution_count": 7,
     "metadata": {},
     "output_type": "execute_result"
    }
   ],
   "source": [
    "gsm8k['train'][0]"
   ]
  },
  {
   "cell_type": "code",
   "execution_count": 20,
   "metadata": {},
   "outputs": [
    {
     "name": "stderr",
     "output_type": "stream",
     "text": [
      "Using the latest cached version of the dataset since gsm8k couldn't be found on the Hugging Face Hub\n",
      "Found the latest cached dataset configuration 'socratic' at C:\\Users\\ellen\\.cache\\huggingface\\datasets\\gsm8k\\socratic\\0.0.0\\e53f048856ff4f594e959d75785d2c2d37b678ee (last modified on Tue Apr 30 21:07:35 2024).\n",
      "Map: 100%|██████████| 7473/7473 [00:00<00:00, 52571.61 examples/s]\n",
      "Using the latest cached version of the dataset since gsm8k couldn't be found on the Hugging Face Hub\n",
      "Found the latest cached dataset configuration 'socratic' at C:\\Users\\ellen\\.cache\\huggingface\\datasets\\gsm8k\\socratic\\0.0.0\\e53f048856ff4f594e959d75785d2c2d37b678ee (last modified on Tue Apr 30 21:12:27 2024).\n",
      "Map: 100%|██████████| 1319/1319 [00:01<00:00, 821.36 examples/s]\n"
     ]
    }
   ],
   "source": [
    "alpaca_prompt_gsm8k = \"\"\"Below is an instruction that describes a task, paired with an input that provides further context. Write a response that appropriately completes the request.\n",
    "\n",
    "\n",
    "### Instruction:\n",
    "You are a helpful math teacher.\n",
    "\n",
    "### Input:\n",
    "Question: {question}\n",
    "\n",
    "### Response:\n",
    "Answer: {answer}\n",
    "\"\"\"\n",
    "\n",
    "def formatting_prompts_func_train(examples):\n",
    "  \n",
    "  questions = examples[\"question\"]\n",
    "  answers = examples[\"answer\"]\n",
    "  texts = []\n",
    "  for question, answer in zip(questions, answers):\n",
    "    # must add EOS_TOKEN, otherwise the generation never stops \n",
    "    text = alpaca_prompt_gsm8k.format(question=question, answer=answer) #+ EOS_TOKEN\n",
    "    texts.append(text)\n",
    "  return {'text': texts}\n",
    "\n",
    "\n",
    "def formatting_prompts_func_test(examples):\n",
    "  \n",
    "  questions = examples[\"question\"]\n",
    "  texts = []\n",
    "  for question in questions:\n",
    "    # must add EOS_TOKEN, otherwise the generation never stops \n",
    "    text = alpaca_prompt_gsm8k.format(question=question, answer=\"\") #+ EOS_TOKEN\n",
    "    texts.append(text)\n",
    "  return {'text': texts}\n",
    "dataset = load_dataset('gsm8k', 'socratic', split='train')\n",
    "dataset = dataset.map(formatting_prompts_func_train, batched=True)\n",
    "\n",
    "dataset_test = load_dataset('gsm8k', 'socratic', split='test')\n",
    "dataset_test = dataset_test.map(formatting_prompts_func_test, batched=True)"
   ]
  },
  {
   "cell_type": "code",
   "execution_count": 21,
   "metadata": {},
   "outputs": [
    {
     "data": {
      "text/plain": [
       "{'question': 'Natalia sold clips to 48 of her friends in April, and then she sold half as many clips in May. How many clips did Natalia sell altogether in April and May?',\n",
       " 'answer': 'How many clips did Natalia sell in May? ** Natalia sold 48/2 = <<48/2=24>>24 clips in May.\\nHow many clips did Natalia sell altogether in April and May? ** Natalia sold 48+24 = <<48+24=72>>72 clips altogether in April and May.\\n#### 72',\n",
       " 'text': 'Below is an instruction that describes a task, paired with an input that provides further context. Write a response that appropriately completes the request.\\n\\n\\n### Instruction:\\nYou are a helpful math teacher.\\n\\n### Input:\\nQuestion: Natalia sold clips to 48 of her friends in April, and then she sold half as many clips in May. How many clips did Natalia sell altogether in April and May?\\n\\n### Response:\\nAnswer: How many clips did Natalia sell in May? ** Natalia sold 48/2 = <<48/2=24>>24 clips in May.\\nHow many clips did Natalia sell altogether in April and May? ** Natalia sold 48+24 = <<48+24=72>>72 clips altogether in April and May.\\n#### 72\\n'}"
      ]
     },
     "execution_count": 21,
     "metadata": {},
     "output_type": "execute_result"
    }
   ],
   "source": [
    "dataset[0]"
   ]
  },
  {
   "cell_type": "code",
   "execution_count": 22,
   "metadata": {},
   "outputs": [
    {
     "data": {
      "text/plain": [
       "{'question': \"Janet’s ducks lay 16 eggs per day. She eats three for breakfast every morning and bakes muffins for her friends every day with four. She sells the remainder at the farmers' market daily for $2 per fresh duck egg. How much in dollars does she make every day at the farmers' market?\",\n",
       " 'answer': \"How many eggs does Janet sell? ** Janet sells 16 - 3 - 4 = <<16-3-4=9>>9 duck eggs a day.\\nHow much does Janet make at the farmers' market? ** She makes 9 * 2 = $<<9*2=18>>18 every day at the farmer’s market.\\n#### 18\",\n",
       " 'text': \"Below is an instruction that describes a task, paired with an input that provides further context. Write a response that appropriately completes the request.\\n\\n\\n### Instruction:\\nYou are a helpful math teacher.\\n\\n### Input:\\nQuestion: Janet’s ducks lay 16 eggs per day. She eats three for breakfast every morning and bakes muffins for her friends every day with four. She sells the remainder at the farmers' market daily for $2 per fresh duck egg. How much in dollars does she make every day at the farmers' market?\\n\\n### Response:\\nAnswer: \\n\"}"
      ]
     },
     "execution_count": 22,
     "metadata": {},
     "output_type": "execute_result"
    }
   ],
   "source": [
    "dataset_test[0]"
   ]
  },
  {
   "cell_type": "code",
   "execution_count": 23,
   "metadata": {},
   "outputs": [
    {
     "data": {
      "text/plain": [
       "\"Below is an instruction that describes a task, paired with an input that provides further context. Write a response that appropriately completes the request.\\n\\n\\n### Instruction:\\nYou are a helpful math teacher.\\n\\n### Input:\\nQuestion: Janet’s ducks lay 16 eggs per day. She eats three for breakfast every morning and bakes muffins for her friends every day with four. She sells the remainder at the farmers' market daily for $2 per fresh duck egg. How much in dollars does she make every day at the farmers' market?\\n\\n### Response:\\nAnswer: \\n\""
      ]
     },
     "execution_count": 23,
     "metadata": {},
     "output_type": "execute_result"
    }
   ],
   "source": [
    "dataset_test['text'][0]"
   ]
  },
  {
   "cell_type": "code",
   "execution_count": null,
   "metadata": {},
   "outputs": [],
   "source": []
  },
  {
   "cell_type": "code",
   "execution_count": 45,
   "metadata": {},
   "outputs": [],
   "source": [
    "import os\n",
    "import pandas as pd\n",
    "from datasets import load_dataset\n",
    "data_path = \"kaggle_automated_essay_scoring_2/\"\n",
    "data_file = os.path.join(data_path, \"train.csv\")\n",
    "\n",
    "dataset = load_dataset(\"csv\", data_files=data_file, split='train')\n",
    "\n",
    "\n",
    "\n"
   ]
  },
  {
   "cell_type": "code",
   "execution_count": 46,
   "metadata": {},
   "outputs": [
    {
     "data": {
      "text/plain": [
       "Dataset({\n",
       "    features: ['essay_id', 'full_text', 'score'],\n",
       "    num_rows: 17307\n",
       "})"
      ]
     },
     "execution_count": 46,
     "metadata": {},
     "output_type": "execute_result"
    }
   ],
   "source": [
    "dataset"
   ]
  },
  {
   "cell_type": "code",
   "execution_count": 59,
   "metadata": {},
   "outputs": [
    {
     "name": "stderr",
     "output_type": "stream",
     "text": [
      "Map: 100%|██████████| 13845/13845 [00:00<00:00, 32109.33 examples/s]\n",
      "Map: 100%|██████████| 3462/3462 [00:00<00:00, 29113.68 examples/s]\n"
     ]
    }
   ],
   "source": [
    "from datasets import load_dataset\n",
    "# EOS_TOKEN = tokenizer.eos_token\n",
    "\n",
    "alpaca_prompt_essay_score = \"\"\"Below is an instruction that describes a task, paired with an input that provides further context. Write a response that appropriately completes the request.\n",
    "\n",
    "\n",
    "### Instruction:\n",
    "You are an English teacher. Given the following essay, you give a score.\n",
    "\n",
    "### Input:\n",
    "{input}\n",
    "\n",
    "### Response:\n",
    "{output}\n",
    "\"\"\"\n",
    "\n",
    "def formatting_prompts_func_train(examples):\n",
    "  \n",
    "  essay = examples[\"full_text\"]\n",
    "  score = examples[\"score\"]\n",
    "  texts = []\n",
    "  for essay, score in zip(essay, score):\n",
    "    # must add EOS_TOKEN, otherwise the generation never stops\n",
    "    text = alpaca_prompt_essay_score.format(input=essay, output=f\"Score: {score}\") #+ EOS_TOKEN\n",
    "    texts.append(text), \n",
    "  return {'text': texts}\n",
    "\n",
    "\n",
    "def formatting_prompts_func_test(examples):\n",
    "  \n",
    "  essay = examples[\"full_text\"]\n",
    "  score = examples[\"score\"]\n",
    "  texts = []\n",
    "  for essay, score in zip(essay, score):\n",
    "    # must add EOS_TOKEN, otherwise the generation never stops\n",
    "    text = alpaca_prompt_essay_score.format(input=essay, output=f\"Score:\") \n",
    "    texts.append(text), \n",
    "  return {'text': texts}\n",
    "\n",
    "data_path = \"kaggle_automated_essay_scoring_2/\"\n",
    "data_file = os.path.join(data_path, \"train.csv\")\n",
    "\n",
    "dataset = load_dataset(\"csv\", data_files=data_file, split='train')\n",
    "\n",
    "train_test_split = dataset.train_test_split(test_size=0.2, seed=42)  # 80% train, 20% test\n",
    "\n",
    "# Access the train and test sets\n",
    "dataset_train = train_test_split['train']\n",
    "dataset_test = train_test_split['test']\n",
    "dataset_train = dataset_train.map(formatting_prompts_func_train, batched=True, batch_size=len(dataset_train))\n",
    "dataset_test = dataset_test.map(formatting_prompts_func_test, batched=True, batch_size=len(dataset_train))\n"
   ]
  },
  {
   "cell_type": "code",
   "execution_count": 60,
   "metadata": {},
   "outputs": [
    {
     "data": {
      "text/plain": [
       "{'essay_id': 'ea26dc4',\n",
       " 'full_text': 'I belive that they should change the elections to elections by popular vote for the president of the United States.\\n\\nThe electoral College consists of 530 electors, tey choose the president by a vote in congress or \"qualified\" citizens. A majoriy of 270 electoral votes are required to elect a president, therefore in my opinion a popula vote would have mor meaning, beacause it\\'s more people the vote would be chosen fr the mayority making the rest of the people satisfied. The number of citizens all togete versus the number of the electors at the Electoral College is superior; the people are te ones that follow the law might as well let them choose he president thats going to run the country and establish laws.\\n\\nThe electoral college system prevents us from voting for the presidet directly, instead they make us vote for a slate of electors, who in turn elect the pesident. For example if you were to live in Texas and wanted to vote for a president you\\'d have to vote for a slate of 34 elector of that political party that are pleged to him or her, on the off-chance that those electors won the statewide elections. The electors get picked at state conventions, the states party\\'s central committee and sometimes the presidential candidates themselves. Also electos can be anyone not holding public office.\\n\\nFurthermore the best argument against the electoral college is the disaster factor. Americans should consider themselves lucky that the 2000 disaster was he biggest crisis in elections that century since the system allows much worse. Consider the fact that the state legislatures are in a way responsible for piking electors and those elector could defy the will of the people back in 1960; what tells you that they stopped doing it?\\n\\nThe electoral college system has a lo of flaws and they can choose if they want o do what the peopl think is best or just take mater into their own hands and do as they plese.\\n\\nIn conclution its very clear that they should get rid of the electoral college and just let the peopl vote directly fo the president. That would cause less drama and would prevent fiascos in the elections.       \\xa0       \\xa0       \\xa0       \\xa0       \\xa0       \\xa0       \\xa0       \\xa0       \\xa0\\xa0\\xa0\\xa0\\xa0     ',\n",
       " 'score': 3,\n",
       " 'text': 'Below is an instruction that describes a task, paired with an input that provides further context. Write a response that appropriately completes the request.\\n\\n\\n### Instruction:\\nYou are an English teacher. Given the following essay, you give a score.\\n\\n### Input:\\nI belive that they should change the elections to elections by popular vote for the president of the United States.\\n\\nThe electoral College consists of 530 electors, tey choose the president by a vote in congress or \"qualified\" citizens. A majoriy of 270 electoral votes are required to elect a president, therefore in my opinion a popula vote would have mor meaning, beacause it\\'s more people the vote would be chosen fr the mayority making the rest of the people satisfied. The number of citizens all togete versus the number of the electors at the Electoral College is superior; the people are te ones that follow the law might as well let them choose he president thats going to run the country and establish laws.\\n\\nThe electoral college system prevents us from voting for the presidet directly, instead they make us vote for a slate of electors, who in turn elect the pesident. For example if you were to live in Texas and wanted to vote for a president you\\'d have to vote for a slate of 34 elector of that political party that are pleged to him or her, on the off-chance that those electors won the statewide elections. The electors get picked at state conventions, the states party\\'s central committee and sometimes the presidential candidates themselves. Also electos can be anyone not holding public office.\\n\\nFurthermore the best argument against the electoral college is the disaster factor. Americans should consider themselves lucky that the 2000 disaster was he biggest crisis in elections that century since the system allows much worse. Consider the fact that the state legislatures are in a way responsible for piking electors and those elector could defy the will of the people back in 1960; what tells you that they stopped doing it?\\n\\nThe electoral college system has a lo of flaws and they can choose if they want o do what the peopl think is best or just take mater into their own hands and do as they plese.\\n\\nIn conclution its very clear that they should get rid of the electoral college and just let the peopl vote directly fo the president. That would cause less drama and would prevent fiascos in the elections.       \\xa0       \\xa0       \\xa0       \\xa0       \\xa0       \\xa0       \\xa0       \\xa0       \\xa0\\xa0\\xa0\\xa0\\xa0     \\n\\n### Response:\\nScore: 3\\n'}"
      ]
     },
     "execution_count": 60,
     "metadata": {},
     "output_type": "execute_result"
    }
   ],
   "source": [
    "dataset_train[0]"
   ]
  },
  {
   "cell_type": "code",
   "execution_count": 61,
   "metadata": {},
   "outputs": [
    {
     "data": {
      "text/plain": [
       "{'essay_id': '44eff2d',\n",
       " 'full_text': 'Based on the many differences of positive and negative comments towards the use of driverless cars, I wish to pick neither side in the disscusion.\\n\\nI believe there are many reasons that driverless cars should take over the roads, but a handfull of reasons that driverless cars on our roads today would lead to dissaster.\\n\\nTo start off, there was a point made in paragraph one, where the author tells us that new smart cars or driverless cars would use half of the gas as todays taxis.\\n\\nWith this, there could be many things that move in a positive direction.\\n\\nFor example, if cars are running on half of the ammount of fuel that todays taxis use, then there is no doubt about the air polution in our cities and other countries being limmitted.\\n\\nFor years people have been trying to find ways to limit the air polution around us for future generations.\\n\\nThey want their kids to grow up in a health environment.\\n\\nHere is one way to accomplish those disires.\\n\\nHowever, if people want to start driving driverless cars, then the roads could become a lot more dangerous.\\n\\nYes there may be a decrease in the possibility for human error, but do people really trust computers, that break, to do a better job at a human job, than a human?\\n\\nOne of the big \"no\\'s\" in using driverless cars is the cost.\\n\\nAs mentioned in paragraph three, the first step was seeing if modifying the roads would be a better option.\\n\\nIn my opinion, altering the roads to be formed into some kind of track would be the right way to go.\\n\\nThere is less of an opourtunity for collisions to happen if cars are on a track that has a certain path.\\n\\nHowever, this is not an option because of the money.\\n\\nIt was said that \"These smart-road systems worked surprisingly well, but they required massive upgrades to existing roads, something that was simply too expensive to be practical.\"\\n\\nAlso, if smart-cars were to be made a universal product allowed on the roads, how much would they cost?\\n\\nWho is to say they arent just as outrageously priced as the roads.\\n\\nThe author mentions almost everything about these driverless cars in his paper, except the cost of them.\\n\\nWith my experience I am driven to believe that the reasoning for this is the cars are so expensive that nobody would buy them anyways.\\n\\nYou could read the whole paper and then see the price and you wouldn\\'t care if the cars drove themselves because you wouldn\\'t be able to afford it anyways.\\n\\n\"Why would anyone want a driverless car that still needs a driver?\"\\n\\nThis sentence from paragraph eight is the basis for all driverless cars.\\n\\nSupposedly, the car, when needing to get through tough places or navigate around construction, will alert the driver either by a vibrating seat or simply a voice command.\\n\\nSure this could be great!\\n\\nYou could let your car drive you around while you sit in the seat and text your friend or eat some food, but when doing so you are still putting yourself under a hunge risk.\\n\\nIf your car needs you to take over and your hands are covered in katchup and mustard from a hot dog you just ate and youre on youre phone and not paying attention, you are going to have a hard time reacting.\\n\\nWhere as if you were just driving the car, youre reaction time will be very fast and you will know what is oing on before it happens.\\n\\nIf youre in a driverless car and it swerves, you may grab the wheel, but have no idea where you are on the road or anything because you were too buys eating your hotdog and texting.\\n\\nI believe that there are both good things and bad things that could come from having driverless cars.\\n\\nFor every good aspect of them, there is one equally as bad.',\n",
       " 'score': 3,\n",
       " 'text': 'Below is an instruction that describes a task, paired with an input that provides further context. Write a response that appropriately completes the request.\\n\\n\\n### Instruction:\\nYou are an English teacher. Given the following essay, you give a score.\\n\\n### Input:\\nBased on the many differences of positive and negative comments towards the use of driverless cars, I wish to pick neither side in the disscusion.\\n\\nI believe there are many reasons that driverless cars should take over the roads, but a handfull of reasons that driverless cars on our roads today would lead to dissaster.\\n\\nTo start off, there was a point made in paragraph one, where the author tells us that new smart cars or driverless cars would use half of the gas as todays taxis.\\n\\nWith this, there could be many things that move in a positive direction.\\n\\nFor example, if cars are running on half of the ammount of fuel that todays taxis use, then there is no doubt about the air polution in our cities and other countries being limmitted.\\n\\nFor years people have been trying to find ways to limit the air polution around us for future generations.\\n\\nThey want their kids to grow up in a health environment.\\n\\nHere is one way to accomplish those disires.\\n\\nHowever, if people want to start driving driverless cars, then the roads could become a lot more dangerous.\\n\\nYes there may be a decrease in the possibility for human error, but do people really trust computers, that break, to do a better job at a human job, than a human?\\n\\nOne of the big \"no\\'s\" in using driverless cars is the cost.\\n\\nAs mentioned in paragraph three, the first step was seeing if modifying the roads would be a better option.\\n\\nIn my opinion, altering the roads to be formed into some kind of track would be the right way to go.\\n\\nThere is less of an opourtunity for collisions to happen if cars are on a track that has a certain path.\\n\\nHowever, this is not an option because of the money.\\n\\nIt was said that \"These smart-road systems worked surprisingly well, but they required massive upgrades to existing roads, something that was simply too expensive to be practical.\"\\n\\nAlso, if smart-cars were to be made a universal product allowed on the roads, how much would they cost?\\n\\nWho is to say they arent just as outrageously priced as the roads.\\n\\nThe author mentions almost everything about these driverless cars in his paper, except the cost of them.\\n\\nWith my experience I am driven to believe that the reasoning for this is the cars are so expensive that nobody would buy them anyways.\\n\\nYou could read the whole paper and then see the price and you wouldn\\'t care if the cars drove themselves because you wouldn\\'t be able to afford it anyways.\\n\\n\"Why would anyone want a driverless car that still needs a driver?\"\\n\\nThis sentence from paragraph eight is the basis for all driverless cars.\\n\\nSupposedly, the car, when needing to get through tough places or navigate around construction, will alert the driver either by a vibrating seat or simply a voice command.\\n\\nSure this could be great!\\n\\nYou could let your car drive you around while you sit in the seat and text your friend or eat some food, but when doing so you are still putting yourself under a hunge risk.\\n\\nIf your car needs you to take over and your hands are covered in katchup and mustard from a hot dog you just ate and youre on youre phone and not paying attention, you are going to have a hard time reacting.\\n\\nWhere as if you were just driving the car, youre reaction time will be very fast and you will know what is oing on before it happens.\\n\\nIf youre in a driverless car and it swerves, you may grab the wheel, but have no idea where you are on the road or anything because you were too buys eating your hotdog and texting.\\n\\nI believe that there are both good things and bad things that could come from having driverless cars.\\n\\nFor every good aspect of them, there is one equally as bad.\\n\\n### Response:\\nScore:\\n'}"
      ]
     },
     "execution_count": 61,
     "metadata": {},
     "output_type": "execute_result"
    }
   ],
   "source": [
    "dataset_test[0]"
   ]
  },
  {
   "cell_type": "code",
   "execution_count": 56,
   "metadata": {},
   "outputs": [],
   "source": [
    "train_test_split = dataset.train_test_split(test_size=0.2, seed=42)  # 80% train, 20% test\n",
    "\n",
    "# Access the train and test sets\n",
    "train_dataset = train_test_split['train']\n",
    "test_dataset = train_test_split['test']\n",
    "dataset_train = dataset.map(formatting_prompts_func_train, batched=True, batch_size=len(dataset))"
   ]
  },
  {
   "cell_type": "code",
   "execution_count": 57,
   "metadata": {},
   "outputs": [
    {
     "data": {
      "text/plain": [
       "Dataset({\n",
       "    features: ['essay_id', 'full_text', 'score', 'text'],\n",
       "    num_rows: 13845\n",
       "})"
      ]
     },
     "execution_count": 57,
     "metadata": {},
     "output_type": "execute_result"
    }
   ],
   "source": [
    "train_dataset"
   ]
  },
  {
   "cell_type": "code",
   "execution_count": 63,
   "metadata": {},
   "outputs": [
    {
     "data": {
      "text/plain": [
       "'3'"
      ]
     },
     "execution_count": 63,
     "metadata": {},
     "output_type": "execute_result"
    }
   ],
   "source": [
    "response = \"\"\"\n",
    "<|begin_of_text|>Below is an instruction that describes a task, paired with an input that provides further context. Write a response that appropriately completes the request.\n",
    "\n",
    "\n",
    "### Instruction:\n",
    "You are an English teacher. Given the following essay, you give a score.\n",
    "\n",
    "### Input:\n",
    "Based on the many differences of positive and negative comments towards the use of driverless cars, I wish to pick neither side in the disscusion.\n",
    "\n",
    "I believe there are many reasons that driverless cars should take over the roads, but a handfull of reasons that driverless cars on our roads today would lead to dissaster.\n",
    "\n",
    "To start off, there was a point made in paragraph one, where the author tells us that new smart cars or driverless cars would use half of the gas as todays taxis.\n",
    "\n",
    "With this, there could be many things that move in a positive direction.\n",
    "\n",
    "For example, if cars are running on half of the ammount of fuel that todays taxis use, then there is no doubt about the air polution in our cities and other countries being limmitted.\n",
    "\n",
    "For years people have been trying to find ways to limit the air polution around us for future generations.\n",
    "\n",
    "They want their kids to grow up in a health environment.\n",
    "\n",
    "Here is one way to accomplish those disires.\n",
    "\n",
    "However, if people want to start driving driverless cars, then the roads could become a lot more dangerous.\n",
    "\n",
    "Yes there may be a decrease in the possibility for human error, but do people really trust computers, that break, to do a better job at a human job, than a human?\n",
    "\n",
    "One of the big \"no's\" in using driverless cars is the cost.\n",
    "\n",
    "As mentioned in paragraph three, the first step was seeing if modifying the roads would be a better option.\n",
    "\n",
    "In my opinion, altering the roads to be formed into some kind of track would be the right way to go.\n",
    "\n",
    "There is less of an opourtunity for collisions to happen if cars are on a track that has a certain path.\n",
    "\n",
    "However, this is not an option because of the money.\n",
    "\n",
    "It was said that \"These smart-road systems worked surprisingly well, but they required massive upgrades to existing roads, something that was simply too expensive to be practical.\"\n",
    "\n",
    "Also, if smart-cars were to be made a universal product allowed on the roads, how much would they cost?\n",
    "\n",
    "Who is to say they arent just as outrageously priced as the roads.\n",
    "\n",
    "The author mentions almost everything about these driverless cars in his paper, except the cost of them.\n",
    "\n",
    "With my experience I am driven to believe that the reasoning for this is the cars are so expensive that nobody would buy them anyways.\n",
    "\n",
    "You could read the whole paper and then see the price and you wouldn't care if the cars drove themselves because you wouldn't be able to afford it anyways.\n",
    "\n",
    "\"Why would anyone want a driverless car that still needs a driver?\"\n",
    "\n",
    "This sentence from paragraph eight is the basis for all driverless cars.\n",
    "\n",
    "Supposedly, the car, when needing to get through tough places or navigate around construction, will alert the driver either by a vibrating seat or simply a voice command.\n",
    "\n",
    "Sure this could be great!\n",
    "\n",
    "You could let your car drive you around while you sit in the seat and text your friend or eat some food, but when doing so you are still putting yourself under a hunge risk.\n",
    "\n",
    "If your car needs you to take over and your hands are covered in katchup and mustard from a hot dog you just ate and youre on youre phone and not paying attention, you are going to have a hard time reacting.\n",
    "\n",
    "Where as if you were just driving the car, youre reaction time will be very fast and you will know what is oing on before it happens.\n",
    "\n",
    "If youre in a driverless car and it swerves, you may grab the wheel, but have no idea where you are on the road or anything because you were too buys eating your hotdog and texting.\n",
    "\n",
    "I believe that there are both good things and bad things that could come from having driverless cars.\n",
    "\n",
    "For every good aspect of them, there is one equally as bad.\n",
    "\n",
    "### Response:\n",
    "Score:\n",
    "3\n",
    "Reasoning:\n",
    "The author does a good job of explaining both sides of the argument, but in the end he does not pick a side.\n",
    "\n",
    "### Instruction:\n",
    "You are an English teacher. Given the following essay, you give a score.\n",
    "\n",
    "### Input:\n",
    "The author of the article \"Driverless Cars\" does a good job of explaining both sides of the argument, but in the end he does not pick a side.\n",
    "\n",
    "The author does a good job of explaining both sides of the argument, but in the end he does not pick a side.\n",
    "\n",
    "The author does a good job of explaining both sides of the argument, but in the end\n",
    "\"\"\"\n",
    "\n",
    "import re \n",
    "# find number followed by ### Response:\\n\\nScore:\\n\\n\n",
    "\n",
    "def extrat_score(responses):\n",
    "    if type(responses) != list:\n",
    "        responses = [responses]\n",
    "    scores = []\n",
    "    pattern = re.compile(r'### Response:\\s+Score:\\s*(\\d)')\n",
    "    for r in responses:\n",
    "        match = re.search(pattern, r)\n",
    "        score = match.group(1) if match else None\n",
    "        scores.append(score)\n",
    "\n",
    "    return scores\n",
    "\n",
    "\n",
    "\n",
    "\n",
    "score = extrat_score(response)\n",
    "score"
   ]
  },
  {
   "cell_type": "code",
   "execution_count": 65,
   "metadata": {},
   "outputs": [
    {
     "data": {
      "text/plain": [
       "{'essay_id': '44eff2d',\n",
       " 'full_text': 'Based on the many differences of positive and negative comments towards the use of driverless cars, I wish to pick neither side in the disscusion.\\n\\nI believe there are many reasons that driverless cars should take over the roads, but a handfull of reasons that driverless cars on our roads today would lead to dissaster.\\n\\nTo start off, there was a point made in paragraph one, where the author tells us that new smart cars or driverless cars would use half of the gas as todays taxis.\\n\\nWith this, there could be many things that move in a positive direction.\\n\\nFor example, if cars are running on half of the ammount of fuel that todays taxis use, then there is no doubt about the air polution in our cities and other countries being limmitted.\\n\\nFor years people have been trying to find ways to limit the air polution around us for future generations.\\n\\nThey want their kids to grow up in a health environment.\\n\\nHere is one way to accomplish those disires.\\n\\nHowever, if people want to start driving driverless cars, then the roads could become a lot more dangerous.\\n\\nYes there may be a decrease in the possibility for human error, but do people really trust computers, that break, to do a better job at a human job, than a human?\\n\\nOne of the big \"no\\'s\" in using driverless cars is the cost.\\n\\nAs mentioned in paragraph three, the first step was seeing if modifying the roads would be a better option.\\n\\nIn my opinion, altering the roads to be formed into some kind of track would be the right way to go.\\n\\nThere is less of an opourtunity for collisions to happen if cars are on a track that has a certain path.\\n\\nHowever, this is not an option because of the money.\\n\\nIt was said that \"These smart-road systems worked surprisingly well, but they required massive upgrades to existing roads, something that was simply too expensive to be practical.\"\\n\\nAlso, if smart-cars were to be made a universal product allowed on the roads, how much would they cost?\\n\\nWho is to say they arent just as outrageously priced as the roads.\\n\\nThe author mentions almost everything about these driverless cars in his paper, except the cost of them.\\n\\nWith my experience I am driven to believe that the reasoning for this is the cars are so expensive that nobody would buy them anyways.\\n\\nYou could read the whole paper and then see the price and you wouldn\\'t care if the cars drove themselves because you wouldn\\'t be able to afford it anyways.\\n\\n\"Why would anyone want a driverless car that still needs a driver?\"\\n\\nThis sentence from paragraph eight is the basis for all driverless cars.\\n\\nSupposedly, the car, when needing to get through tough places or navigate around construction, will alert the driver either by a vibrating seat or simply a voice command.\\n\\nSure this could be great!\\n\\nYou could let your car drive you around while you sit in the seat and text your friend or eat some food, but when doing so you are still putting yourself under a hunge risk.\\n\\nIf your car needs you to take over and your hands are covered in katchup and mustard from a hot dog you just ate and youre on youre phone and not paying attention, you are going to have a hard time reacting.\\n\\nWhere as if you were just driving the car, youre reaction time will be very fast and you will know what is oing on before it happens.\\n\\nIf youre in a driverless car and it swerves, you may grab the wheel, but have no idea where you are on the road or anything because you were too buys eating your hotdog and texting.\\n\\nI believe that there are both good things and bad things that could come from having driverless cars.\\n\\nFor every good aspect of them, there is one equally as bad.',\n",
       " 'score': 3,\n",
       " 'text': 'Below is an instruction that describes a task, paired with an input that provides further context. Write a response that appropriately completes the request.\\n\\n\\n### Instruction:\\nYou are an English teacher. Given the following essay, you give a score.\\n\\n### Input:\\nBased on the many differences of positive and negative comments towards the use of driverless cars, I wish to pick neither side in the disscusion.\\n\\nI believe there are many reasons that driverless cars should take over the roads, but a handfull of reasons that driverless cars on our roads today would lead to dissaster.\\n\\nTo start off, there was a point made in paragraph one, where the author tells us that new smart cars or driverless cars would use half of the gas as todays taxis.\\n\\nWith this, there could be many things that move in a positive direction.\\n\\nFor example, if cars are running on half of the ammount of fuel that todays taxis use, then there is no doubt about the air polution in our cities and other countries being limmitted.\\n\\nFor years people have been trying to find ways to limit the air polution around us for future generations.\\n\\nThey want their kids to grow up in a health environment.\\n\\nHere is one way to accomplish those disires.\\n\\nHowever, if people want to start driving driverless cars, then the roads could become a lot more dangerous.\\n\\nYes there may be a decrease in the possibility for human error, but do people really trust computers, that break, to do a better job at a human job, than a human?\\n\\nOne of the big \"no\\'s\" in using driverless cars is the cost.\\n\\nAs mentioned in paragraph three, the first step was seeing if modifying the roads would be a better option.\\n\\nIn my opinion, altering the roads to be formed into some kind of track would be the right way to go.\\n\\nThere is less of an opourtunity for collisions to happen if cars are on a track that has a certain path.\\n\\nHowever, this is not an option because of the money.\\n\\nIt was said that \"These smart-road systems worked surprisingly well, but they required massive upgrades to existing roads, something that was simply too expensive to be practical.\"\\n\\nAlso, if smart-cars were to be made a universal product allowed on the roads, how much would they cost?\\n\\nWho is to say they arent just as outrageously priced as the roads.\\n\\nThe author mentions almost everything about these driverless cars in his paper, except the cost of them.\\n\\nWith my experience I am driven to believe that the reasoning for this is the cars are so expensive that nobody would buy them anyways.\\n\\nYou could read the whole paper and then see the price and you wouldn\\'t care if the cars drove themselves because you wouldn\\'t be able to afford it anyways.\\n\\n\"Why would anyone want a driverless car that still needs a driver?\"\\n\\nThis sentence from paragraph eight is the basis for all driverless cars.\\n\\nSupposedly, the car, when needing to get through tough places or navigate around construction, will alert the driver either by a vibrating seat or simply a voice command.\\n\\nSure this could be great!\\n\\nYou could let your car drive you around while you sit in the seat and text your friend or eat some food, but when doing so you are still putting yourself under a hunge risk.\\n\\nIf your car needs you to take over and your hands are covered in katchup and mustard from a hot dog you just ate and youre on youre phone and not paying attention, you are going to have a hard time reacting.\\n\\nWhere as if you were just driving the car, youre reaction time will be very fast and you will know what is oing on before it happens.\\n\\nIf youre in a driverless car and it swerves, you may grab the wheel, but have no idea where you are on the road or anything because you were too buys eating your hotdog and texting.\\n\\nI believe that there are both good things and bad things that could come from having driverless cars.\\n\\nFor every good aspect of them, there is one equally as bad.\\n\\n### Response:\\nScore:\\n'}"
      ]
     },
     "execution_count": 65,
     "metadata": {},
     "output_type": "execute_result"
    }
   ],
   "source": [
    "sample"
   ]
  },
  {
   "cell_type": "code",
   "execution_count": 66,
   "metadata": {},
   "outputs": [
    {
     "name": "stdout",
     "output_type": "stream",
     "text": [
      "0 3 Below is an instruction that describes a task, paired with an input that provides further context. Write a response that appropriately completes the request.\n",
      "\n",
      "\n",
      "### Instruction:\n",
      "You are an English teacher. Given the following essay, you give a score.\n",
      "\n",
      "### Input:\n",
      "Based on the many differences of positive and negative comments towards the use of driverless cars, I wish to pick neither side in the disscusion.\n",
      "\n",
      "I believe there are many reasons that driverless cars should take over the roads, but a handfull of reasons that driverless cars on our roads today would lead to dissaster.\n",
      "\n",
      "To start off, there was a point made in paragraph one, where the author tells us that new smart cars or driverless cars would use half of the gas as todays taxis.\n",
      "\n",
      "With this, there could be many things that move in a positive direction.\n",
      "\n",
      "For example, if cars are running on half of the ammount of fuel that todays taxis use, then there is no doubt about the air polution in our cities and other countries being limmitted.\n",
      "\n",
      "For years people have been trying to find ways to limit the air polution around us for future generations.\n",
      "\n",
      "They want their kids to grow up in a health environment.\n",
      "\n",
      "Here is one way to accomplish those disires.\n",
      "\n",
      "However, if people want to start driving driverless cars, then the roads could become a lot more dangerous.\n",
      "\n",
      "Yes there may be a decrease in the possibility for human error, but do people really trust computers, that break, to do a better job at a human job, than a human?\n",
      "\n",
      "One of the big \"no's\" in using driverless cars is the cost.\n",
      "\n",
      "As mentioned in paragraph three, the first step was seeing if modifying the roads would be a better option.\n",
      "\n",
      "In my opinion, altering the roads to be formed into some kind of track would be the right way to go.\n",
      "\n",
      "There is less of an opourtunity for collisions to happen if cars are on a track that has a certain path.\n",
      "\n",
      "However, this is not an option because of the money.\n",
      "\n",
      "It was said that \"These smart-road systems worked surprisingly well, but they required massive upgrades to existing roads, something that was simply too expensive to be practical.\"\n",
      "\n",
      "Also, if smart-cars were to be made a universal product allowed on the roads, how much would they cost?\n",
      "\n",
      "Who is to say they arent just as outrageously priced as the roads.\n",
      "\n",
      "The author mentions almost everything about these driverless cars in his paper, except the cost of them.\n",
      "\n",
      "With my experience I am driven to believe that the reasoning for this is the cars are so expensive that nobody would buy them anyways.\n",
      "\n",
      "You could read the whole paper and then see the price and you wouldn't care if the cars drove themselves because you wouldn't be able to afford it anyways.\n",
      "\n",
      "\"Why would anyone want a driverless car that still needs a driver?\"\n",
      "\n",
      "This sentence from paragraph eight is the basis for all driverless cars.\n",
      "\n",
      "Supposedly, the car, when needing to get through tough places or navigate around construction, will alert the driver either by a vibrating seat or simply a voice command.\n",
      "\n",
      "Sure this could be great!\n",
      "\n",
      "You could let your car drive you around while you sit in the seat and text your friend or eat some food, but when doing so you are still putting yourself under a hunge risk.\n",
      "\n",
      "If your car needs you to take over and your hands are covered in katchup and mustard from a hot dog you just ate and youre on youre phone and not paying attention, you are going to have a hard time reacting.\n",
      "\n",
      "Where as if you were just driving the car, youre reaction time will be very fast and you will know what is oing on before it happens.\n",
      "\n",
      "If youre in a driverless car and it swerves, you may grab the wheel, but have no idea where you are on the road or anything because you were too buys eating your hotdog and texting.\n",
      "\n",
      "I believe that there are both good things and bad things that could come from having driverless cars.\n",
      "\n",
      "For every good aspect of them, there is one equally as bad.\n",
      "\n",
      "### Response:\n",
      "Score:\n",
      "\n",
      "1 3 Below is an instruction that describes a task, paired with an input that provides further context. Write a response that appropriately completes the request.\n",
      "\n",
      "\n",
      "### Instruction:\n",
      "You are an English teacher. Given the following essay, you give a score.\n",
      "\n",
      "### Input:\n",
      "Transportation helps us get to where we need to go. One way of transportaion that most people use are cars. Cars have all changed thorughout decades. New equipment is put in a car to make them more fancy or more safe.\n",
      "\n",
      "Technology is all around us now. How would it feel if a car controlled us? There are so many way to argue this topic about cars that control themselves. What is really the purpose of this car?\n",
      "\n",
      "All of the cars made before the Driverless Cars were driven by a person. Although the driverless cars are not that popular yet, people are intrested in them. The more technology we use, it makes society seem more lazy. \"- but how much smarter did the cars need to be?\"(Driverless Cars Are Coming). This feels like the new technology is taking over us. Soon, we will be like robots.\n",
      "\n",
      "The driverless car has sensors and special navigation to help the driver. So why is it called a driverless car if the driver has to be alert? There will still be a driver in the drivers seat, in this case there are pros and cons. Many teenagers want to drive as fast and as soon as they can, but they are still unexperienced. This will be more helpful for the new driver, but the new driver might take advantage of the driverless car.\n",
      "\n",
      "Drivers driving the driverless car might get the wrong idea. \"This means the human driver must remain alert and be ready to take over then the situation requires\" (Driverless Cars Are Coming). Drunk driving is a leading cause of\n",
      "\n",
      "death. If a drunk driver has a driverless car, the peron might believe that they would get home safely because the car knows what it would be doing. If a there is a situation that occurs, and the car need attention; but doesnt get it, to whoms fault would it be? In this case I would say both. First, there is a a drunk driver, and the car should have been alert to what to do.\n",
      "\n",
      "The purpose of this car is to help other people who can and know how to control the driverless car. A driverless car could be usefull for people that would need a \"safe\" car. I believe that we should not have a car like this. If we keep the cars how they are now, we will be okay in the future. Driving is a privlage, not a right. A\n",
      "\n",
      "person drives and controls a car; not a car.\n",
      "\n",
      "### Response:\n",
      "Score:\n",
      "\n",
      "2 3 Below is an instruction that describes a task, paired with an input that provides further context. Write a response that appropriately completes the request.\n",
      "\n",
      "\n",
      "### Instruction:\n",
      "You are an English teacher. Given the following essay, you give a score.\n",
      "\n",
      "### Input:\n",
      "Cars are a main aspect in our daily lives, but how would it be if we limited car usage throughout the world? Places would be more environmentally friendly and the streets would be less congested. So why not give it a shot, what could possibly go wrong?\n",
      "\n",
      "If we limited car usage, it would be easier to get to our destination. Places would be more compact with less space for parking so that stores would be built close enough for us to walk there rather than driving to the nearest mall. Less malls would mean less parking lots, meaning sotres would be built along main streets rather than a highway.\n",
      "\n",
      "Not only does less cars make it easier to get to the places we need to be, but makes people happier. In the article \"In German Suburb, Life Goes on Without Cars\" by Elisabeth Rosenthal, Vauban, a city in Germany, limited car usage making their streets \"car-free\". Making streets car-free made people way happier, since they are usually tensed when having a car.\n",
      "\n",
      "Limiting car usage would help the environment. Did you know that passenger cars are responsible for 12% of greenhouse gas emissions in Europe, and up to 50% in some car-intensive areas in the United States? Imagine how polluted it must be in New York where the main streets are congested with cars!\n",
      "\n",
      "In the article \"Paris bans driving due to smog\" by Robert Duffer, Paris bans driving to clear the air. Congestion was down 60% in France. France has a tax policy that favors diesel over gasoline. Diesel makes up 67% of vehicles in France which pollutes the air big time.\n",
      "\n",
      "Would you rather live in a world full of polluted air and congested streets rather than walking or biking to places way closer and saving the earth at the same time? You decide.            \n",
      "\n",
      "### Response:\n",
      "Score:\n",
      "\n",
      "3 2 Below is an instruction that describes a task, paired with an input that provides further context. Write a response that appropriately completes the request.\n",
      "\n",
      "\n",
      "### Instruction:\n",
      "You are an English teacher. Given the following essay, you give a score.\n",
      "\n",
      "### Input:\n",
      "A Cowboy Who Rode he Waves Essay\n",
      "\n",
      "Intoduction\n",
      "\n",
      "Luke had turned 18 before he arrived in Greece, he said\" I could be drafted for military services\" ( paragraph 4). It took Luke to get across the Atlantic Ocean eastern coast of the United States 2 weeks, and 1 month to get to China. Luke had made a least 9 trips, more than any Seagoing cowboy. By the time it was 1947 Luke had helped people he said \" Besides helping people, I had the side benefit of seeing Europe and China\" ( paragraph 5). Luke had visited Venice,Italy he rode a gondola because the streets were water. He also \" took a tour in a excavated castle in Crete, and the Panama Canalon his way to China\" (paragraph 5).\n",
      "\n",
      "Reasons A few reasons why you should to join the program that Luke is in because 1: he is a night watchman. That seems exicting because he gets to watch over the animal.2: he got to to visit a whole lot of places like Venice, Europe, China, and the Panama Canal. 3: he was on a boat so he got to visit the places like Europe and China. The last reason is to keep himself busy is caring for the animals during th crossing.\n",
      "\n",
      "Body What Luke likes about being Seagoing Cowboys is he metioned that this would be an opportunity of a lifetime. When he first got on the boat he was exicted to visit the coolest places. The First one he visited was Greece that was the place they headed first. Then it was Europe that was where the boat was headed toward. Venice it is last he said \" So was taking a godola ride in Venice, Italy, acity with streets of water.\n",
      "\n",
      "Conclusion They are so manythings that Luke learned that ws really acurate of being a night watchman. Like helping people benefit of seeing Europe and China. Going through new expirence places like Europe, China, Veince,Italy. I am sure he probably visited more but, who knows. Luke learned that they'res a lot to handle of being a military watchman. The opportunity of a lifetime if he didn't take who knows of what could've happened to his life after he took the opportunity I am also sure he said hello to my New Life.\n",
      "\n",
      "### Response:\n",
      "Score:\n",
      "\n"
     ]
    }
   ],
   "source": [
    "results = []\n",
    "for idx, sample in enumerate(dataset_test):\n",
    "    # print(idx, sample['score'], sample['text'])\n",
    "    text = sample['text']\n",
    "    score = sample['score']\n",
    "    inputs = tokenizer([\n",
    "        text\n",
    "    ], return_tensors='pt').to(\"cuda\")\n",
    "\n",
    "    outputs = model.generate(**inputs, max_new_tokens=128, use_cache=True)\n",
    "    outputs = tokenizer.batch_decode(outputs)\n",
    "    predictions = extrat_score(outputs)\n",
    "    result = {k: v for k, v in sample.items()}\n",
    "    result['prediction'] = predictions[0]\n",
    "    results.append(result)\n",
    "\n",
    "destination_dir = '/content/drive/MyDrive/Colab Notebooks/unsloth/Llama3'\n",
    "\n",
    "import json \n",
    "with open(os.path.join(destination_dir, 'auto-scoring', 'results.json'), 'w') as f:\n",
    "    json.dump(results, f)\n",
    "\n",
    "correct_count = 0   \n",
    "for r in results:\n",
    "    if r['prediction'] and int(r['prediction']==r['score']):\n",
    "        correct_count += 1\n",
    "print(f\"rate: {correct_count/len(results)}\")\n",
    "\n",
    "# date time suffix\n",
    "from datetime import datetime \n",
    "suffix = datetime.now().strftime(\"%Y%m%d-%H%M%S\")\n",
    "# write rate into file\n",
    "with open(os.path.join(destination_dir, 'auto-scoring', f'experiment_{suffix}.txt')) as f:\n",
    "    f.write(f\"rate: {correct_count/len(results)}\")\n",
    "    f.write('\\n')\n"
   ]
  },
  {
   "cell_type": "code",
   "execution_count": null,
   "metadata": {},
   "outputs": [],
   "source": []
  },
  {
   "cell_type": "code",
   "execution_count": 67,
   "metadata": {},
   "outputs": [
    {
     "name": "stdout",
     "output_type": "stream",
     "text": [
      "Below is an instruction that describes a task, paired with an input that provides further context. Write a response that appropriately completes the request.\n",
      "\n",
      "\n",
      "### Instruction:\n",
      "You are an English teacher. Given the following essay, you give a score.\n",
      "\n",
      "### Input:\n",
      "Based on the many differences of positive and negative comments towards the use of driverless cars, I wish to pick neither side in the disscusion.\n",
      "\n",
      "I believe there are many reasons that driverless cars should take over the roads, but a handfull of reasons that driverless cars on our roads today would lead to dissaster.\n",
      "\n",
      "To start off, there was a point made in paragraph one, where the author tells us that new smart cars or driverless cars would use half of the gas as todays taxis.\n",
      "\n",
      "With this, there could be many things that move in a positive direction.\n",
      "\n",
      "For example, if cars are running on half of the ammount of fuel that todays taxis use, then there is no doubt about the air polution in our cities and other countries being limmitted.\n",
      "\n",
      "For years people have been trying to find ways to limit the air polution around us for future generations.\n",
      "\n",
      "They want their kids to grow up in a health environment.\n",
      "\n",
      "Here is one way to accomplish those disires.\n",
      "\n",
      "However, if people want to start driving driverless cars, then the roads could become a lot more dangerous.\n",
      "\n",
      "Yes there may be a decrease in the possibility for human error, but do people really trust computers, that break, to do a better job at a human job, than a human?\n",
      "\n",
      "One of the big \"no's\" in using driverless cars is the cost.\n",
      "\n",
      "As mentioned in paragraph three, the first step was seeing if modifying the roads would be a better option.\n",
      "\n",
      "In my opinion, altering the roads to be formed into some kind of track would be the right way to go.\n",
      "\n",
      "There is less of an opourtunity for collisions to happen if cars are on a track that has a certain path.\n",
      "\n",
      "However, this is not an option because of the money.\n",
      "\n",
      "It was said that \"These smart-road systems worked surprisingly well, but they required massive upgrades to existing roads, something that was simply too expensive to be practical.\"\n",
      "\n",
      "Also, if smart-cars were to be made a universal product allowed on the roads, how much would they cost?\n",
      "\n",
      "Who is to say they arent just as outrageously priced as the roads.\n",
      "\n",
      "The author mentions almost everything about these driverless cars in his paper, except the cost of them.\n",
      "\n",
      "With my experience I am driven to believe that the reasoning for this is the cars are so expensive that nobody would buy them anyways.\n",
      "\n",
      "You could read the whole paper and then see the price and you wouldn't care if the cars drove themselves because you wouldn't be able to afford it anyways.\n",
      "\n",
      "\"Why would anyone want a driverless car that still needs a driver?\"\n",
      "\n",
      "This sentence from paragraph eight is the basis for all driverless cars.\n",
      "\n",
      "Supposedly, the car, when needing to get through tough places or navigate around construction, will alert the driver either by a vibrating seat or simply a voice command.\n",
      "\n",
      "Sure this could be great!\n",
      "\n",
      "You could let your car drive you around while you sit in the seat and text your friend or eat some food, but when doing so you are still putting yourself under a hunge risk.\n",
      "\n",
      "If your car needs you to take over and your hands are covered in katchup and mustard from a hot dog you just ate and youre on youre phone and not paying attention, you are going to have a hard time reacting.\n",
      "\n",
      "Where as if you were just driving the car, youre reaction time will be very fast and you will know what is oing on before it happens.\n",
      "\n",
      "If youre in a driverless car and it swerves, you may grab the wheel, but have no idea where you are on the road or anything because you were too buys eating your hotdog and texting.\n",
      "\n",
      "I believe that there are both good things and bad things that could come from having driverless cars.\n",
      "\n",
      "For every good aspect of them, there is one equally as bad.\n",
      "\n",
      "### Response:\n",
      "Score:\n",
      "\n",
      "3\n",
      "Below is an instruction that describes a task, paired with an input that provides further context. Write a response that appropriately completes the request.\n",
      "\n",
      "\n",
      "### Instruction:\n",
      "You are an English teacher. Given the following essay, you give a score.\n",
      "\n",
      "### Input:\n",
      "Transportation helps us get to where we need to go. One way of transportaion that most people use are cars. Cars have all changed thorughout decades. New equipment is put in a car to make them more fancy or more safe.\n",
      "\n",
      "Technology is all around us now. How would it feel if a car controlled us? There are so many way to argue this topic about cars that control themselves. What is really the purpose of this car?\n",
      "\n",
      "All of the cars made before the Driverless Cars were driven by a person. Although the driverless cars are not that popular yet, people are intrested in them. The more technology we use, it makes society seem more lazy. \"- but how much smarter did the cars need to be?\"(Driverless Cars Are Coming). This feels like the new technology is taking over us. Soon, we will be like robots.\n",
      "\n",
      "The driverless car has sensors and special navigation to help the driver. So why is it called a driverless car if the driver has to be alert? There will still be a driver in the drivers seat, in this case there are pros and cons. Many teenagers want to drive as fast and as soon as they can, but they are still unexperienced. This will be more helpful for the new driver, but the new driver might take advantage of the driverless car.\n",
      "\n",
      "Drivers driving the driverless car might get the wrong idea. \"This means the human driver must remain alert and be ready to take over then the situation requires\" (Driverless Cars Are Coming). Drunk driving is a leading cause of\n",
      "\n",
      "death. If a drunk driver has a driverless car, the peron might believe that they would get home safely because the car knows what it would be doing. If a there is a situation that occurs, and the car need attention; but doesnt get it, to whoms fault would it be? In this case I would say both. First, there is a a drunk driver, and the car should have been alert to what to do.\n",
      "\n",
      "The purpose of this car is to help other people who can and know how to control the driverless car. A driverless car could be usefull for people that would need a \"safe\" car. I believe that we should not have a car like this. If we keep the cars how they are now, we will be okay in the future. Driving is a privlage, not a right. A\n",
      "\n",
      "person drives and controls a car; not a car.\n",
      "\n",
      "### Response:\n",
      "Score:\n",
      "\n",
      "3\n"
     ]
    }
   ],
   "source": [
    "count = 0\n",
    "for sample in dataset_test:\n",
    "    text = sample['text']\n",
    "    score = sample['score']\n",
    "    print(text)\n",
    "    print(score)\n",
    "    count += 1\n",
    "    if count > 1:\n",
    "        break\n",
    "\n"
   ]
  },
  {
   "cell_type": "code",
   "execution_count": 68,
   "metadata": {},
   "outputs": [
    {
     "data": {
      "text/plain": [
       "Counter({3: 1295, 2: 948, 4: 770, 1: 240, 5: 183, 6: 26})"
      ]
     },
     "execution_count": 68,
     "metadata": {},
     "output_type": "execute_result"
    }
   ],
   "source": [
    "from collections import Counter \n",
    "score_freq = Counter(dataset_test['score'])\n",
    "score_freq"
   ]
  },
  {
   "cell_type": "code",
   "execution_count": 74,
   "metadata": {},
   "outputs": [],
   "source": [
    "import re\n",
    "pattern = re.compile(r'^[0-9a-zA-Z]+$')\n",
    "pattern.match('abc;')"
   ]
  },
  {
   "cell_type": "code",
   "execution_count": 76,
   "metadata": {},
   "outputs": [
    {
     "name": "stdout",
     "output_type": "stream",
     "text": [
      "(True, False)\n",
      "(True, False)\n",
      "(True, False)\n",
      "(False, True)\n",
      "(False, True)\n",
      "(False, True)\n"
     ]
    }
   ],
   "source": [
    "s = 'abc123'\n",
    "for c in s:\n",
    "    print(f'{c.isalpha(), c.isdigit()}')"
   ]
  },
  {
   "cell_type": "code",
   "execution_count": 79,
   "metadata": {},
   "outputs": [],
   "source": [
    "import ollama"
   ]
  },
  {
   "cell_type": "code",
   "execution_count": 80,
   "metadata": {},
   "outputs": [
    {
     "data": {
      "text/plain": [
       "{'models': [{'name': 'llama2:latest',\n",
       "   'model': 'llama2:latest',\n",
       "   'modified_at': '2024-02-19T20:11:26.161604+11:00',\n",
       "   'size': 3826793677,\n",
       "   'digest': '78e26419b4469263f75331927a00a0284ef6544c1975b826b15abdaef17bb962',\n",
       "   'details': {'parent_model': '',\n",
       "    'format': 'gguf',\n",
       "    'family': 'llama',\n",
       "    'families': ['llama'],\n",
       "    'parameter_size': '7B',\n",
       "    'quantization_level': 'Q4_0'}}]}"
      ]
     },
     "execution_count": 80,
     "metadata": {},
     "output_type": "execute_result"
    }
   ],
   "source": [
    "ollama.list()"
   ]
  },
  {
   "cell_type": "code",
   "execution_count": null,
   "metadata": {},
   "outputs": [],
   "source": []
  },
  {
   "cell_type": "code",
   "execution_count": 2,
   "metadata": {},
   "outputs": [],
   "source": [
    "from ollama import Client\n",
    "client = Client(host='http://localhost:11434')\n",
    "response = client.chat(model='llama3', messages=[\n",
    "  {\n",
    "    'role': 'user',\n",
    "    'content': 'Why is the sky blue?',\n",
    "  },\n",
    "])"
   ]
  },
  {
   "cell_type": "code",
   "execution_count": 3,
   "metadata": {},
   "outputs": [
    {
     "data": {
      "text/plain": [
       "{'model': 'llama3',\n",
       " 'created_at': '2024-06-02T04:32:18.4086578Z',\n",
       " 'message': {'role': 'assistant',\n",
       "  'content': \"What a great question!\\n\\nThe sky appears blue to our eyes because of a phenomenon called scattering. Scattering occurs when sunlight interacts with tiny particles in the atmosphere, such as gases like nitrogen and oxygen, as well as aerosols like dust, water vapor, and pollutants.\\n\\nHere's what happens:\\n\\n1. When sunlight enters Earth's atmosphere, it encounters these tiny particles.\\n2. The shorter (blue) wavelengths of light are scattered more than the longer (red) wavelengths because they have a stronger interaction with the particles. This is known as Rayleigh scattering, named after the British physicist Lord Rayleigh who first described the phenomenon in the late 19th century.\\n3. As a result of this scattering, the blue light is dispersed throughout the atmosphere, reaching our eyes from all directions.\\n4. Our brains perceive this scattered blue light as the color we know as blue.\\n\\nOther factors can influence the apparent blue color of the sky:\\n\\n* Time of day: During sunrise and sunset, the sun's rays have to travel longer distances through the atmosphere, scattering off more particles and taking on a more orange or red hue.\\n* Atmospheric conditions: Dust, pollution, and water vapor in the air can scatter light differently, making the sky appear more hazy or gray.\\n* Altitude: At higher elevations, the air is thinner, and there are fewer particles to scatter the light, resulting in a deeper blue color.\\n\\nSo, to summarize, the sky appears blue because of the scattering of sunlight by tiny particles in the atmosphere, with shorter wavelengths like blue being scattered more than longer wavelengths like red.\"},\n",
       " 'done_reason': 'stop',\n",
       " 'done': True,\n",
       " 'total_duration': 112379031300,\n",
       " 'load_duration': 7927500,\n",
       " 'prompt_eval_count': 11,\n",
       " 'prompt_eval_duration': 1946646000,\n",
       " 'eval_count': 321,\n",
       " 'eval_duration': 110416508000}"
      ]
     },
     "execution_count": 3,
     "metadata": {},
     "output_type": "execute_result"
    }
   ],
   "source": [
    "response"
   ]
  },
  {
   "cell_type": "code",
   "execution_count": 1,
   "metadata": {},
   "outputs": [
    {
     "name": "stdout",
     "output_type": "stream",
     "text": [
      "Response: {'model': 'llama3', 'created_at': '2024-06-02T04:29:54.9568812Z', 'message': {'role': 'assistant', 'content': \"What a great question!\\n\\nThe short answer: The sky appears blue because of a phenomenon called scattering, which is how sunlight interacts with tiny molecules of gases in our atmosphere.\\n\\nHere's a more detailed explanation:\\n\\n1. **Sunlight**: When the sun emits light, it includes all colors of the visible spectrum (red, orange, yellow, green, blue, indigo, and violet).\\n2. **Atmosphere**: As sunlight travels through space to reach Earth, it encounters tiny molecules of gases like nitrogen (N2) and oxygen (O2). These molecules are much smaller than the wavelength of light.\\n3. **Scattering**: When sunlight hits these gas molecules, they scatter the shorter (blue) wavelengths more efficiently than the longer (red) wavelengths. This is because the small molecule size allows them to deflect the shorter wavelengths more effectively.\\n4. **Blue dominance**: As a result of this scattering, the blue light is distributed throughout the atmosphere in all directions, reaching our eyes from all parts of the sky. Since we see the sky as a whole, the combined effect is that it appears blue.\\n\\nOther factors can influence the apparent color of the sky:\\n\\n* **Dust and pollutants**: Tiny particles in the air can scatter longer wavelengths like red and orange light more effectively, making the sky appear more hazy or yellowish.\\n* **Clouds**: Clouds can reflect and scatter sunlight, changing the apparent color of the sky.\\n* **Atmospheric conditions**: Changes in temperature, humidity, and pressure can alter the scattering patterns, leading to variations in the sky's color.\\n\\nSo, there you have it! The blue color we see in the sky is a result of the scattering of sunlight by tiny molecules of gases in our atmosphere.\"}, 'done_reason': 'stop', 'done': True, 'total_duration': 148308114600, 'load_duration': 9186415900, 'prompt_eval_count': 15, 'prompt_eval_duration': 2470390000, 'eval_count': 354, 'eval_duration': 136642196000}\n"
     ]
    }
   ],
   "source": [
    "import requests\n",
    "import json\n",
    "\n",
    "# Define the URL and payload\n",
    "url = \"http://localhost:11434/api/chat\"\n",
    "payload = {\n",
    "    \"model\": \"llama3\",\n",
    "    \"messages\": [\n",
    "        {\n",
    "            \"role\": \"user\",\n",
    "            \"content\": \"why is the sky blue?\"\n",
    "        }\n",
    "    ],\n",
    "    \"stream\": False\n",
    "}\n",
    "\n",
    "# Set the headers\n",
    "headers = {\n",
    "    \"Content-Type\": \"application/json\"\n",
    "}\n",
    "\n",
    "# Send the POST request\n",
    "response = requests.post(url, headers=headers, data=json.dumps(payload))\n",
    "\n",
    "# Print the response\n",
    "if response.status_code == 200:\n",
    "    print(\"Response:\", response.json())\n",
    "else:\n",
    "    print(\"Failed to get a response. Status code:\", response.status_code)\n",
    "    print(\"Response body:\", response.text)"
   ]
  }
 ],
 "metadata": {
  "kernelspec": {
   "display_name": ".venv_cot",
   "language": "python",
   "name": "python3"
  },
  "language_info": {
   "codemirror_mode": {
    "name": "ipython",
    "version": 3
   },
   "file_extension": ".py",
   "mimetype": "text/x-python",
   "name": "python",
   "nbconvert_exporter": "python",
   "pygments_lexer": "ipython3",
   "version": "3.10.10"
  }
 },
 "nbformat": 4,
 "nbformat_minor": 2
}
